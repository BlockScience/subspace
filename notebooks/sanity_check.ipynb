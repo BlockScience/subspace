{
 "cells": [
  {
   "cell_type": "markdown",
   "metadata": {},
   "source": [
    "# Subspace Digital Twin, Sanity Checking Run\n",
    "\n",
    "*Danilo Lessa Bernardineli, November 2023*\n",
    "\n",
    "On this notebook, we do an sanity checking run (which is a single run) so that basic metrics and KPIs\n",
    "for the simulation are computed.\n",
    "\n",
    "## Part 1. Dependences & Set-up"
   ]
  },
  {
   "cell_type": "code",
   "execution_count": null,
   "metadata": {},
   "outputs": [],
   "source": [
    "import sys\n",
    "sys.path.append('../')\n",
    "\n",
    "import os\n",
    "\n",
    "import numpy as np\n",
    "import pandas as pd\n",
    "\n",
    "\n",
    "import matplotlib.pyplot as plt\n",
    "import plotly.express as px\n",
    "import plotly.io as pio\n",
    "import matplotlib.ticker as mtick\n",
    "from matplotlib.ticker import FuncFormatter\n",
    "import panel as pn\n",
    "pn.extension()\n",
    "pn.state.clear_caches()\n",
    "\n",
    "pio.renderers.default = \"png\" # For GitHub rendering"
   ]
  },
  {
   "cell_type": "markdown",
   "metadata": {},
   "source": [
    "## Part 2. Simulation set-up & execution"
   ]
  },
  {
   "cell_type": "code",
   "execution_count": null,
   "metadata": {},
   "outputs": [],
   "source": [
    "from subspace_model.experiment import sanity_check_run\n",
    "sim_df = sanity_check_run()"
   ]
  },
  {
   "cell_type": "code",
   "execution_count": null,
   "metadata": {},
   "outputs": [],
   "source": [
    "sim_df.head(5)"
   ]
  },
  {
   "cell_type": "code",
   "execution_count": null,
   "metadata": {},
   "outputs": [],
   "source": [
    "sim_df.staking_pool_balance"
   ]
  },
  {
   "cell_type": "markdown",
   "metadata": {},
   "source": [
    "## Part 3. Visualizations\n",
    "\n",
    "On this section, we'll visualize some base metrics on the simulations results"
   ]
  },
  {
   "cell_type": "code",
   "execution_count": null,
   "metadata": {},
   "outputs": [],
   "source": [
    "fig = px.line(sim_df, \n",
    "        x='days_passed', \n",
    "        y=[el for el in sim_df.columns if \"supply\" in el] + ['sum_of_stocks'],\n",
    "        title='SSC Metrics',\n",
    "        labels={'value': 'SSC'},\n",
    "        log_y=True)\n",
    "fig.update_layout(width=1000, height=500)\n",
    "fig.show()"
   ]
  },
  {
   "cell_type": "code",
   "execution_count": null,
   "metadata": {},
   "outputs": [],
   "source": [
    "fig = px.line(sim_df, x='days_passed', \n",
    "        y=[el for el in sim_df.columns if \"shares\" in el],\n",
    "        log_y=True,\n",
    "        labels={'value': 'Staking Pool Shares'},\n",
    "        title='Aggregate Staking Pool share composition'\n",
    "        )\n",
    "fig.update_layout(width=1000, height=500)\n",
    "fig.show()"
   ]
  },
  {
   "cell_type": "code",
   "execution_count": null,
   "metadata": {},
   "outputs": [],
   "source": [
    "fig = px.line(sim_df, x='days_passed', \n",
    "        y=[el for el in sim_df.columns if \"_balance\" in el],\n",
    "        title='SSC Stock Composition',\n",
    "        labels={'value': 'SSC'},\n",
    "        log_y=True)\n",
    "fig.update_layout(width=1000, height=500)\n",
    "fig.show()"
   ]
  },
  {
   "cell_type": "code",
   "execution_count": null,
   "metadata": {},
   "outputs": [],
   "source": [
    "fig = px.line(sim_df, \n",
    "        x='days_passed', \n",
    "        y=[el for el in sim_df.columns if \"volume\" in el],\n",
    "        title='Total Fee Volume per Day',\n",
    "        log_y=True)\n",
    "fig.update_layout(width=1000, height=500)\n",
    "fig.show()"
   ]
  },
  {
   "cell_type": "code",
   "execution_count": null,
   "metadata": {},
   "outputs": [],
   "source": [
    "fig_df = sim_df.melt(id_vars=['days_passed'], value_vars=[el for el in sim_df.columns if \"average\" in el])\n",
    "\n",
    "\n",
    "fig = px.scatter(fig_df, \n",
    "        x='days_passed', \n",
    "        y='value',\n",
    "        color='variable',\n",
    "        title='Environmental Processes',\n",
    "        log_y=True)\n",
    "\n",
    "fig.update_layout(width=1000, height=500)\n",
    "fig.show()"
   ]
  },
  {
   "cell_type": "code",
   "execution_count": null,
   "metadata": {},
   "outputs": [],
   "source": [
    "fig = px.line(sim_df, \n",
    "        x='days_passed', \n",
    "        y=['history_size', 'space_pledged'],\n",
    "        title='Blockchain Size',\n",
    "        labels={'value': 'Bytes'})\n",
    "fig.update_layout(width=1000, height=500)\n",
    "fig.update_yaxes(matches=None, showticklabels=True)\n",
    "fig.show()"
   ]
  },
  {
   "cell_type": "code",
   "execution_count": null,
   "metadata": {},
   "outputs": [],
   "source": [
    "fig_df = sim_df.melt(id_vars=['days_passed'], \n",
    "                     value_vars=['history_size', 'space_pledged'])\n",
    "\n",
    "fig = px.line(fig_df, \n",
    "        x='days_passed', \n",
    "        y='value',\n",
    "        facet_row='variable',\n",
    "        title='Blockchain Size',\n",
    "        labels={'value': 'Bytes'})\n",
    "fig.update_layout(width=1000, height=500)\n",
    "fig.update_yaxes(matches=None, showticklabels=True)\n",
    "fig.show()"
   ]
  },
  {
   "cell_type": "code",
   "execution_count": null,
   "metadata": {},
   "outputs": [],
   "source": [
    "fig = px.line(sim_df, \n",
    "        x='days_passed', \n",
    "        y=['block_utilization'],\n",
    "        title='Block Utilization (% of max. block size)',\n",
    "        labels={'value': 'Bytes'})\n",
    "fig.update_layout(width=1000, height=500)\n",
    "fig.show()"
   ]
  },
  {
   "cell_type": "markdown",
   "metadata": {},
   "source": [
    "### Scoped KPIs"
   ]
  },
  {
   "cell_type": "code",
   "execution_count": null,
   "metadata": {},
   "outputs": [],
   "source": [
    "from subspace_model.trajectory_metrics import *\n",
    "m_df = sim_df.set_index('days_passed')\n",
    "s = window_volatility(m_df.circulating_supply.diff()).reset_index()\n",
    "\n",
    "fig = px.line(s, \n",
    "        x='days_passed', \n",
    "        y='circulating_supply',\n",
    "        title='Circulating Supply Volatility (z-score on weekly standard deviation)')\n",
    "fig.add_hline(0)\n",
    "fig.update_layout(width=1000, height=500, yaxis_range=[-1, 3])\n",
    "fig.show()"
   ]
  },
  {
   "cell_type": "code",
   "execution_count": null,
   "metadata": {},
   "outputs": [],
   "source": [
    "from subspace_model.trajectory_metrics import *\n",
    "m_df = sim_df.set_index('days_passed')\n",
    "s = window_volatility(m_df.holders_balance.diff()).reset_index()\n",
    "\n",
    "fig = px.line(s, \n",
    "        x='days_passed', \n",
    "        y='holders_balance',\n",
    "        title='Holders Balance Volatility (z-score on weekly standard deviation)')\n",
    "fig.add_hline(0)\n",
    "fig.update_layout(width=1000, height=500, yaxis_range=[-1, 3])\n",
    "fig.show()"
   ]
  },
  {
   "cell_type": "code",
   "execution_count": null,
   "metadata": {},
   "outputs": [],
   "source": [
    "n_days = 7\n",
    "fig_df = sim_df.set_index('days_passed')\n",
    "s = fig_df.rewards_to_nominators.rolling(n_days).sum() / fig_df.circulating_supply.rolling(n_days).mean()\n",
    "ax = s.plot()\n",
    "plt.title(\"Weekly Rewards to Nominators (% of Circ Supply per day)\")\n",
    "plt.xlabel('Days Passed')\n",
    "plt.ylabel('Weekly Rewards to Nominators (% of Circulating Supply)')\n",
    "ax.yaxis.set_major_formatter(FuncFormatter(lambda y, _: '{:.0%}'.format(y))) \n",
    "plt.show()"
   ]
  },
  {
   "cell_type": "code",
   "execution_count": null,
   "metadata": {},
   "outputs": [],
   "source": [
    "n = 7\n",
    "s = fig_df.reward_issuance_balance.diff() * -1.0\n",
    "s /= fig_df.max_credit_supply\n",
    "s = s.rolling(n).sum()[n-1::n]\n",
    "\n",
    "ax = s.plot(x='days_passed', y='reward_issuance_balance', logy=True)\n",
    "plt.title(\"Weekly Issuance Rate\")\n",
    "plt.xlabel('Days Passed')\n",
    "plt.ylabel('% of Max Credit Supply ')\n",
    "ax.yaxis.set_major_formatter(FuncFormatter(lambda y, _: '{:.2%}'.format(y))) \n",
    "plt.show()"
   ]
  },
  {
   "cell_type": "code",
   "execution_count": null,
   "metadata": {},
   "outputs": [],
   "source": [
    "n = 7\n",
    "s = fig_df.reward_issuance_balance.diff() * -1.0\n",
    "s /= fig_df.max_credit_supply\n",
    "s = s.cumsum()\n",
    "\n",
    "ax = s.plot(x='days_passed', y='reward_issuance_balance')\n",
    "plt.title(\"Cummulative Issuance Rate\")\n",
    "plt.xlabel('Days Passed')\n",
    "plt.ylabel('% of Max Credit Supply ')\n",
    "ax.yaxis.set_major_formatter(FuncFormatter(lambda y, _: '{:.0%}'.format(y))) \n",
    "plt.show()"
   ]
  },
  {
   "cell_type": "code",
   "execution_count": null,
   "metadata": {},
   "outputs": [],
   "source": []
  }
 ],
 "metadata": {
  "kernelspec": {
   "display_name": "Python 3 (ipykernel)",
   "language": "python",
   "name": "python3"
  },
  "language_info": {
   "codemirror_mode": {
    "name": "ipython",
    "version": 3
   },
   "file_extension": ".py",
   "mimetype": "text/x-python",
   "name": "python",
   "nbconvert_exporter": "python",
   "pygments_lexer": "ipython3",
   "version": "3.10.6"
  }
 },
 "nbformat": 4,
 "nbformat_minor": 4
}
